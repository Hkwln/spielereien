{
 "cells": [
  {
   "cell_type": "markdown",
   "id": "d00ad123",
   "metadata": {},
   "source": [
    "# Proving a Series is a Cauchy Series\n",
    "\n",
    "This notebook demonstrates how to prove that a given series is a Cauchy series. We will use the example series:\n",
    "$$ S = \\sum_{n=1}^{\\infty} \\frac{i^n}{n} $$"
   ]
  },
  {
   "cell_type": "markdown",
   "id": "c6b92e8e",
   "metadata": {},
   "source": [
    "## Definition of a Cauchy Series\n",
    "\n",
    "A series $\\sum_{k=1}^{\\infty} a_k$ (where $a_k$ can be complex numbers) is called a **Cauchy series** if its sequence of partial sums $S_N = \\sum_{k=1}^{N} a_k$ is a Cauchy sequence.\n",
    "\n",
    "A sequence of partial sums $(S_N)$ is a Cauchy sequence if for every $\\epsilon > 0$, there exists a natural number $N_0$ such that for all $m, n > N_0$, we have:\n",
    "$$ |S_m - S_n| < \\epsilon $$"
   ]
  },
  {
   "cell_type": "markdown",
   "id": "e9ea00c7",
   "metadata": {},
   "source": [
    "## Problem: Show that $ S = \\sum_{n=1}^{\\infty} \\frac{i^n}{n} $ is a Cauchy Series\n",
    "\n",
    "To prove that the series $\\sum_{n=1}^{\\infty} \\frac{i^n}{n}$ is a Cauchy series, we need to show that for any $\\epsilon > 0$, there exists an integer $N_0$ such that for all $m > n > N_0$, the absolute difference of their partial sums, $|S_m - S_n|$, is less than $\\epsilon$.\n",
    "\n",
    "Let $S_n = \\sum_{k=1}^{n} \\frac{i^k}{k}$. We consider $m > n$. Then:\n",
    "$$ |S_m - S_n| = \\left| \\sum_{k=n+1}^{m} \\frac{i^k}{k} \\right| $$"
   ]
  },
  {
   "cell_type": "markdown",
   "id": "876883f0",
   "metadata": {},
   "source": [
    "## Method 1: Using Dirichlet's Test (Briefly)\n",
    "\n",
    "A convergent series in $\\mathbb{C}$ is always a Cauchy series. We can show this series converges using Dirichlet's Test.\n",
    "Dirichlet's Test states that if $(a_n)$ is a sequence of real numbers and $(b_n)$ is a sequence of complex numbers such that:\n",
    "1. $a_n$ is monotonically decreasing.\n",
    "2. $\\lim_{n \\to \\infty} a_n = 0$.\n",
    "3. The partial sums $B_N = \\sum_{n=1}^{N} b_n$ are bounded, i.e., $|B_N| \\le M$ for some constant $M$.\n",
    "Then the series $\\sum a_n b_n$ converges.\n",
    "\n",
    "For our series $\\sum \\frac{i^n}{n}$, let $a_n = \\frac{1}{n}$ and $b_n = i^n$.\n",
    "1. $a_n = \\frac{1}{n}$ is monotonically decreasing for $n \\ge 1$.\n",
    "2. $\\lim_{n \\to \\infty} \\frac{1}{n} = 0$.\n",
    "3. The partial sums of $b_n = i^n$ are $B_N = \\sum_{k=1}^{N} i^k$. The sequence of these sums is $(i, i-1, -1, 0, i, i-1, -1, 0, \\dots)$, which is periodic. The magnitudes are $(1, \\sqrt{2}, 1, 0, \\dots)$. Thus, $|B_N| \\le \\sqrt{2}$.\n",
    "\n",
    "Since all conditions are met, the series $\\sum \\frac{i^n}{n}$ converges by Dirichlet's Test. Therefore, it is a Cauchy series."
   ]
  },
  {
   "cell_type": "markdown",
   "id": "0754054f",
   "metadata": {},
   "source": [
    "## Method 2: Direct Proof using the Cauchy Criterion\n",
    "\n",
    "We will use Abel's summation formula (summation by parts). For sequences $(x_k)$ and $(y_k)$, the formula is:\n",
    "$$ \\sum_{k=p}^{q} x_k y_k = X_q y_q - X_{p-1} y_p - \\sum_{k=p}^{q-1} X_k (y_{k+1} - y_k) $$ \n",
    "where $X_k = \\sum_{j=p}^{k} x_j$. A more convenient form for our purpose is:\n",
    "$$ \\sum_{k=n+1}^{m} x_k y_k = (\\sum_{k=n+1}^{m} x_k) y_m - \\sum_{j=n+1}^{m-1} (\\sum_{k=n+1}^{j} x_k) (y_{j+1} - y_j) $$ \n",
    "\n",
    "Let $x_k = i^k$ and $y_k = \\frac{1}{k}$. We are interested in $\\left| \\sum_{k=n+1}^{m} \\frac{i^k}{k} \\right|$.\n",
    "\n",
    "**Step 1: Bound the partial sums of $x_k = i^k$**\n",
    "\n",
    "Let $P_j = \\sum_{k=n+1}^{j} i^k$. The sums of powers of $i$ are periodic: $i, i+i^2=i-1, i+i^2+i^3=-1, i+i^2+i^3+i^4=0$, and then the cycle repeats.\n",
    "More generally, $\\sum_{l=A}^{B} i^l = i^A \\frac{1-i^{B-A+1}}{1-i}$.\n",
    "So, $|P_j| = \\left| \\sum_{k=n+1}^{j} i^k \\right| = \\left| i^{n+1} \\frac{1-i^{j-(n+1)+1}}{1-i} \\right| = \\frac{|1-i^{j-n}|}{|1-i|}$.\n",
    "Since $|1-i^p|$ can be $|1-i|=\\sqrt{2}$, $|1-(-1)|=2$, $|1-(-i)|=\\sqrt{2}$, or $|1-1|=0$, the maximum value of $|1-i^p|$ is $2$.\n",
    "And $|1-i| = \\sqrt{1^2 + (-1)^2} = \\sqrt{2}$.\n",
    "Therefore, $|P_j| \\le \\frac{2}{\\sqrt{2}} = \\sqrt{2}$. Let $M = \\sqrt{2}$.\n",
    "\n",
    "**Step 2: Apply Abel's Summation**\n",
    "\n",
    "$$ \\sum_{k=n+1}^{m} \\frac{i^k}{k} = P_m \\cdot \\frac{1}{m} - \\sum_{j=n+1}^{m-1} P_j \\left( \\frac{1}{j+1} - \\frac{1}{j} \\right) $$ \n",
    "$$ = P_m \\cdot \\frac{1}{m} - \\sum_{j=n+1}^{m-1} P_j \\left( \\frac{j - (j+1)}{j(j+1)} \\right) $$ \n",
    "$$ = P_m \\cdot \\frac{1}{m} + \\sum_{j=n+1}^{m-1} P_j \\frac{1}{j(j+1)} $$ \n",
    "\n",
    "**Step 3: Bound the sum**\n",
    "\n",
    "Using the triangle inequality:\n",
    "$$ \\left| S_m - S_n \\right| = \\left| \\sum_{k=n+1}^{m} \\frac{i^k}{k} \\right| \\le |P_m| \\frac{1}{m} + \\sum_{j=n+1}^{m-1} |P_j| \\frac{1}{j(j+1)} $$ \n",
    "Since $|P_j| \\le M = \\sqrt{2}$:\n",
    "$$ \\left| S_m - S_n \\right| \\le M \\frac{1}{m} + M \\sum_{j=n+1}^{m-1} \\frac{1}{j(j+1)} $$ \n",
    "The sum $\\sum_{j=n+1}^{m-1} \\frac{1}{j(j+1)}$ is a telescoping sum:\n",
    "$$ \\sum_{j=n+1}^{m-1} \\left( \\frac{1}{j} - \\frac{1}{j+1} \\right) = \\left( \\frac{1}{n+1} - \\frac{1}{n+2} \\right) + \\left( \\frac{1}{n+2} - \\frac{1}{n+3} \\right) + \\dots + \\left( \\frac{1}{m-1} - \\frac{1}{m} \\right) = \\frac{1}{n+1} - \\frac{1}{m} $$ \n",
    "So,\n",
    "$$ \\left| S_m - S_n \\right| \\le M \\frac{1}{m} + M \\left( \\frac{1}{n+1} - \\frac{1}{m} \\right) = M \\frac{1}{m} + \\frac{M}{n+1} - M \\frac{1}{m} = \\frac{M}{n+1} $$ \n",
    "Thus, we have:\n",
    "$$ \\left| S_m - S_n \\right| \\le \\frac{\\sqrt{2}}{n+1} $$ \n",
    "\n",
    "**Step 4: Show the $\\epsilon-N_0$ condition**\n",
    "\n",
    "For any given $\\epsilon > 0$, we need to find an $N_0$ such that for all $m > n > N_0$, $|S_m - S_n| < \\epsilon$.\n",
    "We need $\\frac{\\sqrt{2}}{n+1} < \\epsilon$.\n",
    "This implies $n+1 > \\frac{\\sqrt{2}}{\\epsilon}$, so $n > \\frac{\\sqrt{2}}{\\epsilon} - 1$.\n",
    "We can choose $N_0 = \\left\\lceil \\max(0, \\frac{\\sqrt{2}}{\\epsilon} - 1) \\right\\rceil$. Then for any $n > N_0$, the condition is satisfied.\n",
    "\n",
    "Therefore, the series $\\sum_{n=1}^{\\infty} \\frac{i^n}{n}$ is a Cauchy series."
   ]
  },
  {
   "cell_type": "markdown",
   "id": "3373ba96",
   "metadata": {},
   "source": [
    "## Conclusion\n",
    "\n",
    "We have shown by two methods (Dirichlet's Test and direct application of the Cauchy criterion using Abel's summation) that the series $ S = \\sum_{n=1}^{\\infty} \\frac{i^n}{n} $ is a Cauchy series. The direct proof explicitly demonstrates how the difference between partial sums $|S_m - S_n|$ can be made arbitrarily small by choosing $n$ and $m$ large enough."
   ]
  },
  {
   "cell_type": "markdown",
   "id": "10d41076",
   "metadata": {},
   "source": [
    "## Absolute Convergence\n",
    "\n",
    "A series $\\sum a_n$ is said to be **absolutely convergent** if the series of the absolute values of its terms, $\\sum |a_n|$, converges.\n",
    "\n",
    "Let's examine the absolute convergence of our series $ S = \\sum_{n=1}^{\\infty} \\frac{i^n}{n} $.\n",
    "We consider the series of absolute values:\n",
    "$$ \\sum_{n=1}^{\\infty} \\left| \\frac{i^n}{n} \\right| $$ \n",
    "Since $|i^n| = |i|^n = 1^n = 1$ for all $n$, we have:\n",
    "$$ \\left| \\frac{i^n}{n} \\right| = \\frac{|i^n|}{|n|} = \\frac{1}{n} $$ \n",
    "So, the series of absolute values is:\n",
    "$$ \\sum_{n=1}^{\\infty} \\frac{1}{n} $$ \n",
    "This is the harmonic series, which is a well-known divergent p-series (with $p=1$).\n",
    "\n",
    "**Conclusion on Absolute Convergence:**\n",
    "Since $\\sum_{n=1}^{\\infty} \\left| \\frac{i^n}{n} \\right| = \\sum_{n=1}^{\\infty} \\frac{1}{n}$ diverges, the original series $ S = \\sum_{n=1}^{\\infty} \\frac{i^n}{n} $ is **not absolutely convergent**.\n",
    "\n",
    "A series that converges but does not converge absolutely is called **conditionally convergent**. Since we proved earlier (e.g., by Dirichlet's Test) that $\\sum \\frac{i^n}{n}$ converges, and we've now shown it does not converge absolutely, the series $\\sum \\frac{i^n}{n}$ is conditionally convergent."
   ]
  }
 ],
 "metadata": {
  "language_info": {
   "name": "python"
  }
 },
 "nbformat": 4,
 "nbformat_minor": 5
}

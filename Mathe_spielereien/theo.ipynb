{
 "cells": [
  {
   "cell_type": "markdown",
   "id": "eb6f5de5",
   "metadata": {},
   "source": [
    "\n",
    "a) Zeigen Sie: Wenn $K \\leq L$, dann ist auch $\\overline{K} \\leq \\overline{L}$.\n",
    "\n",
    "**Beweis:**  \n",
    "Angenommen, $K \\leq L$, d.h. es gibt eine berechenbare Funktion $f: \\Sigma^* \\to \\Sigma^*$ mit  \n",
    "$w \\in K \\iff f(w) \\in L$.\n",
    "\n",
    "Dann gilt für das Komplement $\\overline{K}$ und $\\overline{L}$:\n",
    "\n",
    "$$\n",
    "w \\in \\overline{K} \\iff w \\notin K \\iff f(w) \\notin L \\iff f(w) \\in \\overline{L}\n",
    "$$\n",
    "\n",
    "Also ist $f$ auch eine Reduktion von $\\overline{K}$ nach $\\overline{L}$, d.h. $\\overline{K} \\leq \\overline{L}$."
   ]
  },
  {
   "cell_type": "markdown",
   "id": "27597b31",
   "metadata": {},
   "source": [
    "b) Sei $K, L \\subseteq \\Sigma^*$ und $K \\leq L$. Zeigen Sie: Falls $L$ co-semi-entscheidbar, so ist auch $K$ co-semi-entscheidbar.\n",
    "\n",
    "**Beweis:**  \n",
    "Angenommen, $L$ ist co-semi-entscheidbar, d.h. $\\overline{L}$ ist semi-entscheidbar.  \n",
    "Da $K \\leq L$, gibt es eine berechenbare Funktion $f$ mit $w \\in K \\iff f(w) \\in L$.\n",
    "\n",
    "Dann gilt:\n",
    "$$\n",
    "w \\notin K \\iff f(w) \\notin L \\iff f(w) \\in \\overline{L}\n",
    "$$\n",
    "\n",
    "Da $\\overline{L}$ semi-entscheidbar ist und $f$ berechenbar, ist die Sprache  \n",
    "$\\{ w \\mid f(w) \\in \\overline{L} \\} = \\overline{K}$ ebenfalls semi-entscheidbar.  \n",
    "Also ist $K$ co-semi-entscheidbar."
   ]
  },
  {
   "cell_type": "markdown",
   "id": "b6343adc",
   "metadata": {},
   "source": [
    "c) Geben Sie für die folgenden Aussagen jeweils alle Sprachen $L \\subseteq \\Sigma^*$ an, sodass die entsprechende Aussage gilt. Beweisen Sie Ihre Antworten.\n",
    "\n",
    "**a) $L \\leq \\emptyset$**  \n",
    "Antwort:  \n",
    "Nur $L = \\emptyset$ erfüllt $L \\leq \\emptyset$.\n",
    "\n",
    "**Begründung:**  \n",
    "Für $L \\leq \\emptyset$ muss es eine berechenbare Funktion $f$ geben mit  \n",
    "$w \\in L \\iff f(w) \\in \\emptyset$.  \n",
    "Da $\\emptyset$ keine Elemente enthält, ist $f(w) \\in \\emptyset$ nie erfüllt, also ist $L = \\emptyset$.\n",
    "\n",
    "**b) $\\emptyset \\leq L$**  \n",
    "Antwort:  \n",
    "Für alle $L \\subseteq \\Sigma^*$ gilt $\\emptyset \\leq L$.\n",
    "\n",
    "**Begründung:**  \n",
    "Die leere Sprache kann immer auf jede Sprache reduziert werden, z.B. durch eine konstante Funktion, da es keine $w \\in \\emptyset$ gibt, für die die Bedingung verletzt werden könnte.\n",
    "\n",
    "**c) $L \\leq \\Sigma^*$**  \n",
    "Antwort:  \n",
    "Für alle $L \\subseteq \\Sigma^*$ gilt $L \\leq \\Sigma^*$.\n",
    "\n",
    "**Begründung:**  \n",
    "Da $\\Sigma^*$ alle Wörter enthält, ist $f(w) \\in \\Sigma^*$ immer wahr, also kann jede Sprache darauf reduziert werden (z.B. durch die Identitätsfunktion).\n",
    "\n",
    "**d) $\\Sigma^* \\leq L$**  \n",
    "Antwort:  \n",
    "Nur für $L = \\Sigma^*$ gilt $\\Sigma^* \\leq L$.\n",
    "\n",
    "**Begründung:**  \n",
    "Für $w \\in \\Sigma^*$ muss $f(w) \\in L$ für alle $w$ gelten. Das geht nur, wenn $L = \\Sigma^*$.\n",
    "\n",
    "**e) $L \\leq \\{a\\}$** (mit $a \\in \\Sigma$)  \n",
    "Antwort:  \n",
    "Nur $L = \\emptyset$ oder $L = \\{ w \\mid f(w) = a \\}$ für eine berechenbare Funktion $f$, aber im Allgemeinen nur $L = \\emptyset$ oder $L = \\{a\\}$.\n",
    "\n",
    "**Begründung:**  \n",
    "Da $\\{a\\}$ nur ein Wort enthält, kann nur eine Sprache darauf reduziert werden, die entweder leer ist oder nur aus $a$ besteht.\n",
    "\n",
    "**f) $\\{a\\} \\leq L$** (mit $a \\in \\Sigma$)  \n",
    "Antwort:  \n",
    "Genau dann, wenn $a \\in L$.\n",
    "\n",
    "**Begründung:**  \n",
    "Wir müssen eine berechenbare Funktion $f$ finden mit $w \\in \\{a\\} \\iff f(w) \\in L$.  \n",
    "Für $w = a$ muss $f(a) \\in L$ gelten, für $w \\neq a$ ist die Bedingung beliebig.  \n",
    "Das ist möglich genau dann, wenn $a \\in L$."
   ]
  }
 ],
 "metadata": {
  "language_info": {
   "name": "python"
  }
 },
 "nbformat": 4,
 "nbformat_minor": 5
}

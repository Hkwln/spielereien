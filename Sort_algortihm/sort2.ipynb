{
 "cells": [
  {
   "cell_type": "markdown",
   "id": "3d9e66f2",
   "metadata": {},
   "source": [
    "# mergesort and quicksort\n",
    "\n",
    "## excersice 1: mergesort\n",
    "![how mergesort works](mergesort.png)"
   ]
  },
  {
   "cell_type": "code",
   "execution_count": null,
   "id": "f4dd982e",
   "metadata": {},
   "outputs": [
    {
     "ename": "TypeError",
     "evalue": "unsupported operand type(s) for /: 'list' and 'int'",
     "output_type": "error",
     "traceback": [
      "\u001b[1;31m---------------------------------------------------------------------------\u001b[0m",
      "\u001b[1;31mTypeError\u001b[0m                                 Traceback (most recent call last)",
      "Cell \u001b[1;32mIn[7], line 12\u001b[0m\n\u001b[0;32m     10\u001b[0m         \u001b[38;5;28;01mreturn\u001b[39;00m temparr\n\u001b[0;32m     11\u001b[0m     temparr \u001b[38;5;241m=\u001b[39m arr\u001b[38;5;241m/\u001b[39m\u001b[38;5;241m2\u001b[39m\n\u001b[1;32m---> 12\u001b[0m \u001b[38;5;28mprint\u001b[39m(\u001b[43marr\u001b[49m\u001b[38;5;241;43m/\u001b[39;49m\u001b[38;5;241;43m2\u001b[39;49m)\n",
      "\u001b[1;31mTypeError\u001b[0m: unsupported operand type(s) for /: 'list' and 'int'"
     ]
    }
   ],
   "source": [
    "# this is a python code block\n",
    "arr = [15, 12, 1, 4, 17, 26]\n",
    "\n",
    "# the normal command for sorting an array in python is sorted(arr)\n",
    "left, right = 0, len(arr)-1\n",
    "\n",
    "# Mergesort implementation\n",
    "def merge_sort(arr):\n",
    "    if len(arr) <= 1:\n",
    "        return arr\n",
    "    mid = len(arr) // 2\n",
    "    left_half = merge_sort(arr[:mid])\n",
    "    right_half = merge_sort(arr[mid:])\n",
    "    return merge(left_half, right_half)\n",
    "\n",
    "def merge(left, right):\n",
    "    sorted_array = []\n",
    "    while left and right:\n",
    "        if left[0] < right[0]:\n",
    "            sorted_array.append(left.pop(0))\n",
    "        else:\n",
    "            sorted_array.append(right.pop(0))\n",
    "    sorted_array.extend(left if left else right)\n",
    "    return sorted_array\n",
    "\n",
    "# Sorting the array using mergesort\n",
    "sorted_arr = merge_sort(arr)\n",
    "print(\"Sorted array:\", sorted_arr)"
   ]
  },
  {
   "cell_type": "markdown",
   "id": "8f8b67e9",
   "metadata": {},
   "source": [
    "## excercise 2: quicksort\n",
    "\n",
    "![quicksort](Quicksort.png)"
   ]
  },
  {
   "cell_type": "code",
   "execution_count": null,
   "id": "0ea8f62f",
   "metadata": {},
   "outputs": [],
   "source": [
    "#use the same array as the excercise above\n"
   ]
  }
 ],
 "metadata": {
  "kernelspec": {
   "display_name": "mlenv",
   "language": "python",
   "name": "python3"
  },
  "language_info": {
   "codemirror_mode": {
    "name": "ipython",
    "version": 3
   },
   "file_extension": ".py",
   "mimetype": "text/x-python",
   "name": "python",
   "nbconvert_exporter": "python",
   "pygments_lexer": "ipython3",
   "version": "3.8.20"
  }
 },
 "nbformat": 4,
 "nbformat_minor": 5
}

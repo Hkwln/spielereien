{
 "cells": [
  {
   "cell_type": "markdown",
   "id": "3d9e66f2",
   "metadata": {},
   "source": [
    "# mergesort and quicksort\n",
    "\n",
    "## excersice 1: mergesort\n",
    "![how mergesort works](mergesort.png)"
   ]
  },
  {
   "cell_type": "code",
   "execution_count": 8,
   "id": "f4dd982e",
   "metadata": {},
   "outputs": [
    {
     "name": "stdout",
     "output_type": "stream",
     "text": [
      "Sorted array: [1, 4, 12, 15, 17, 26]\n"
     ]
    }
   ],
   "source": [
    "# this is a python code block\n",
    "arr = [15, 12, 1, 4, 17, 26]\n",
    "\n",
    "# the normal command for sorting an array in python is sorted(arr)\n",
    "left, right = 0, len(arr)-1\n",
    "def merge_sort(arr):\n",
    "    if len(arr) <= 1:\n",
    "        return arr\n",
    "    mid = len(arr) // 2\n",
    "    left_half = merge_sort(arr[:mid])\n",
    "    right_half = merge_sort(arr[mid:])\n",
    "    return merge(left_half, right_half)\n",
    "\n",
    "def merge(left, right):\n",
    "    sorted_array = []\n",
    "    while left and right:\n",
    "        if left[0] < right[0]:\n",
    "            sorted_array.append(left.pop(0))\n",
    "        else:\n",
    "            sorted_array.append(right.pop(0))\n",
    "    sorted_array.extend(left if left else right)\n",
    "    return sorted_array\n",
    "\n",
    "# Sorting the array using mergesort\n",
    "sorted_arr = merge_sort(arr)\n",
    "print(\"Sorted array:\", sorted_arr)"
   ]
  },
  {
   "cell_type": "markdown",
   "id": "8f8b67e9",
   "metadata": {},
   "source": [
    "## excercise 2: quicksort\n",
    "\n",
    "![quicksort](Quicksort.png)"
   ]
  },
  {
   "cell_type": "code",
   "execution_count": null,
   "id": "0ea8f62f",
   "metadata": {},
   "outputs": [
    {
     "name": "stdout",
     "output_type": "stream",
     "text": [
      "26\n",
      "[15, 12, 1, 4, 17]\n",
      "[26]\n"
     ]
    }
   ],
   "source": [
    "#use the same array as the excercise above\n",
    "\n",
    "import numpy as np\n",
    "def quicksort(arr):\n",
    "    #choose a random start point to sort a algorithm\n",
    "    cho = np.random.randint(0, len(arr))\n",
    "    left, right = [], []\n",
    "    #now rearrange the array so that all elements smaler than cho are moved left, and all elements larger are moved to the right\n",
    "    for i in range(len(arr)):\n",
    "        if arr[i] < arr[cho]:\n",
    "            left.append(arr[i])\n",
    "        else:\n",
    "            right.append(arr[i])\n",
    "    print(arr[cho])\n",
    "    print(left)\n",
    "    print(right)\n",
    "    left = arr\n",
    "    quicksort(arr)\n",
    "\n",
    "quicksort(arr)"
   ]
  }
 ],
 "metadata": {
  "kernelspec": {
   "display_name": "mlenv",
   "language": "python",
   "name": "python3"
  },
  "language_info": {
   "codemirror_mode": {
    "name": "ipython",
    "version": 3
   },
   "file_extension": ".py",
   "mimetype": "text/x-python",
   "name": "python",
   "nbconvert_exporter": "python",
   "pygments_lexer": "ipython3",
   "version": "3.8.20"
  }
 },
 "nbformat": 4,
 "nbformat_minor": 5
}

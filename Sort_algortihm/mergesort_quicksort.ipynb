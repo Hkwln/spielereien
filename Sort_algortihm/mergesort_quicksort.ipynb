{
 "cells": [
  {
   "cell_type": "markdown",
   "id": "3d9e66f2",
   "metadata": {},
   "source": [
    "# mergesort and quicksort\n",
    "\n",
    "## excersice 1: mergesort\n",
    "[how mergesort works](mergesort.png)"
   ]
  },
  {
   "cell_type": "code",
   "execution_count": 8,
   "id": "f4dd982e",
   "metadata": {},
   "outputs": [
    {
     "name": "stdout",
     "output_type": "stream",
     "text": [
      "Sorted array: [1, 4, 12, 15, 17, 26]\n"
     ]
    }
   ],
   "source": [
    "# this is a python code block\n",
    "arr = [15, 12, 1, 4, 17, 26]\n",
    "\n",
    "# the normal command for sorting an array in python is sorted(arr)\n",
    "left, right = 0, len(arr)-1\n",
    "def merge_sort(arr):\n",
    "    if len(arr) <= 1:\n",
    "        return arr\n",
    "    mid = len(arr) // 2\n",
    "    left_half = merge_sort(arr[:mid])\n",
    "    right_half = merge_sort(arr[mid:])\n",
    "    return merge(left_half, right_half)\n",
    "\n",
    "def merge(left, right):\n",
    "    sorted_array = []\n",
    "    while left and right:\n",
    "        if left[0] < right[0]:\n",
    "            sorted_array.append(left.pop(0))\n",
    "        else:\n",
    "            sorted_array.append(right.pop(0))\n",
    "    sorted_array.extend(left if left else right)\n",
    "    return sorted_array\n",
    "\n",
    "# Sorting the array using mergesort\n",
    "sorted_arr = merge_sort(arr)\n",
    "print(\"Sorted array:\", sorted_arr)"
   ]
  },
  {
   "cell_type": "markdown",
   "id": "8f8b67e9",
   "metadata": {},
   "source": [
    "## excercise 2: quicksort\n",
    "\n",
    "[quicksort](Quicksort.png)"
   ]
  },
  {
   "cell_type": "code",
   "execution_count": 26,
   "id": "0ea8f62f",
   "metadata": {},
   "outputs": [
    {
     "name": "stdout",
     "output_type": "stream",
     "text": [
      "Sorted array: [1, 4, 12, 15, 17, 26]\n"
     ]
    }
   ],
   "source": [
    "#use the same array as the excercise above\n",
    "\n",
    "import numpy as np\n",
    "def quicksort(arr):\n",
    "    # Base case: arrays with 0 or 1 element are already sorted\n",
    "    if len(arr) <= 1:\n",
    "        return arr\n",
    "    # Choose a random pivot\n",
    "    cho = np.random.randint(0, len(arr))\n",
    "    pivot = arr[cho]\n",
    "    left, right = [], []\n",
    "    # Partition the array into left and right based on the pivot\n",
    "    for i in range(len(arr)):\n",
    "        if i == cho:\n",
    "            continue\n",
    "        if arr[i] < pivot:\n",
    "            left.append(arr[i])\n",
    "        else:\n",
    "            right.append(arr[i])\n",
    "    # Recursively sort left and right, then combine\n",
    "    sorted_left = quicksort(left)\n",
    "    sorted_right = quicksort(right)\n",
    "    return sorted_left + [pivot] + sorted_right\n",
    "\n",
    "# Sorting the array using quicksort\n",
    "sorted_arr = quicksort(arr)\n",
    "print(\"Sorted array:\", sorted_arr)"
   ]
  },
  {
   "cell_type": "markdown",
   "id": "c01625dd",
   "metadata": {},
   "source": [
    "# quicksort and mergesort auf diesen fall angewendet:\n",
    "![](quicksort_mergesort.jpeg)"
   ]
  }
 ],
 "metadata": {
  "kernelspec": {
   "display_name": "mlenv",
   "language": "python",
   "name": "python3"
  },
  "language_info": {
   "codemirror_mode": {
    "name": "ipython",
    "version": 3
   },
   "file_extension": ".py",
   "mimetype": "text/x-python",
   "name": "python",
   "nbconvert_exporter": "python",
   "pygments_lexer": "ipython3",
   "version": "3.8.20"
  }
 },
 "nbformat": 4,
 "nbformat_minor": 5
}
